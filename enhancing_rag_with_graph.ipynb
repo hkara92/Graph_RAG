{
  "cells": [
    {
      "cell_type": "code",
      "execution_count": 2,
      "metadata": {
        "id": "5x3LkpUztHNU"
      },
      "outputs": [
        {
          "name": "stdout",
          "output_type": "stream",
          "text": [
            "Note: you may need to restart the kernel to use updated packages.\n"
          ]
        },
        {
          "name": "stderr",
          "output_type": "stream",
          "text": [
            "WARNING: Skipping c:\\Users\\hites\\Desktop\\GENAI\\Graph_RAG\\.venv\\Lib\\site-packages\\json_repair-0.46.0.dist-info due to invalid metadata entry 'name'\n",
            "WARNING: Skipping c:\\Users\\hites\\Desktop\\GENAI\\Graph_RAG\\.venv\\Lib\\site-packages\\json_repair-0.46.0.dist-info due to invalid metadata entry 'name'\n",
            "WARNING: Skipping c:\\Users\\hites\\Desktop\\GENAI\\Graph_RAG\\.venv\\Lib\\site-packages\\json_repair-0.46.0.dist-info due to invalid metadata entry 'name'\n",
            "WARNING: Skipping c:\\Users\\hites\\Desktop\\GENAI\\Graph_RAG\\.venv\\Lib\\site-packages\\json_repair-0.46.0.dist-info due to invalid metadata entry 'name'\n",
            "WARNING: Skipping c:\\Users\\hites\\Desktop\\GENAI\\Graph_RAG\\.venv\\Lib\\site-packages\\json_repair-0.46.0.dist-info due to invalid metadata entry 'name'\n",
            "WARNING: Skipping c:\\Users\\hites\\Desktop\\GENAI\\Graph_RAG\\.venv\\Lib\\site-packages\\json_repair-0.46.0.dist-info due to invalid metadata entry 'name'\n",
            "\n",
            "[notice] A new release of pip is available: 24.0 -> 25.1.1\n",
            "[notice] To update, run: python.exe -m pip install --upgrade pip\n"
          ]
        }
      ],
      "source": [
        "%pip install --upgrade --quiet langchain langchain-neo4j langchain-ollama langchain-experimental neo4j tiktoken yfiles_jupyter_graphs python-dotenv langchain-openai"
      ]
    },
    {
      "cell_type": "code",
      "execution_count": 3,
      "metadata": {
        "id": "jPIRSGz4tHNV"
      },
      "outputs": [],
      "source": [
        "from langchain.schema.runnable import  RunnablePassthrough\n",
        "from langchain.prompts import ChatPromptTemplate\n",
        "from pydantic import BaseModel, Field\n",
        "from langchain.output_parsers import PydanticOutputParser\n",
        "from langchain_core.output_parsers import StrOutputParser\n",
        "from langchain_neo4j import Neo4jGraph\n",
        "from langchain.text_splitter import RecursiveCharacterTextSplitter\n",
        "#from langchain_ollama import ChatOllama\n",
        "from langchain_experimental.graph_transformers import LLMGraphTransformer\n",
        "from neo4j import GraphDatabase\n",
        "from yfiles_jupyter_graphs import GraphWidget\n",
        "from langchain_neo4j.vectorstores.neo4j_vector import Neo4jVector\n",
        "from langchain.chat_models import ChatOpenAI\n",
        "from langchain_openai import OpenAI\n",
        "from langchain.embeddings import OpenAIEmbeddings\n",
        "from langchain.document_loaders import TextLoader\n",
        "from langchain_neo4j.vectorstores.neo4j_vector import remove_lucene_chars\n",
        "#from langchain_ollama import OllamaEmbeddings\n",
        "import os\n",
        "#from langchain_experimental.llms.ollama_functions import OllamaFunctions\n",
        "from neo4j import  GraphDatabase, Driver\n",
        "\n",
        "from dotenv import load_dotenv\n",
        "\n"
      ]
    },
    {
      "cell_type": "code",
      "execution_count": 58,
      "metadata": {},
      "outputs": [
        {
          "data": {
            "text/plain": [
              "True"
            ]
          },
          "execution_count": 58,
          "metadata": {},
          "output_type": "execute_result"
        }
      ],
      "source": [
        "load_dotenv(override=True)\n",
        "# print(\"OPENAI_API_KEY:\", os.getenv(\"OPENAI_API_KEY\"))\n",
        "# print(\"NEO4J_URI:\", os.getenv(\"NEO4J_URI\"))\n",
        "# print(\"NEO4J_USERNAME:\", os.getenv(\"NEO4J_USERNAME\"))\n",
        "# print(\"NEO4J_PASSWORD:\", os.getenv(\"NEO4J_PASSWORD\"))"
      ]
    },
    {
      "cell_type": "code",
      "execution_count": 5,
      "metadata": {
        "id": "L0nXP1aYtHNW"
      },
      "outputs": [],
      "source": [
        "graph = Neo4jGraph() "
      ]
    },
    {
      "cell_type": "code",
      "execution_count": 6,
      "metadata": {
        "colab": {
          "base_uri": "https://localhost:8080/"
        },
        "id": "sGhtLTAStHNW",
        "outputId": "39f65561-6c6b-4370-a51f-1d8118591158"
      },
      "outputs": [],
      "source": [
        "loader = TextLoader(file_path=\"dummytext.txt\")\n",
        "docs = loader.load()\n",
        "\n",
        "\n"
      ]
    },
    {
      "cell_type": "code",
      "execution_count": 7,
      "metadata": {},
      "outputs": [
        {
          "name": "stdout",
          "output_type": "stream",
          "text": [
            "1\n",
            "1. The Story of Amicoâ€™s Family: A Legacy of Love and Tradition\n",
            "In the idyllic village of Santa Caterina, amidst the rolling hills and sun-kissed landscapes of Sicily, lies the genesis of the Caruso family, a lineage intertwined with the island's rich culinary tapestry. The Carusos were not mere inhabitants of the land; they were the keepers of a culinary heritage that spanned generations. Each family member contributed their unique flair, crafting a narrative of flavors that reflected their diverse experiences and deep-seated love for food.\n",
            "\n",
            "Giovanni Caruso and Maria: The Founding Generation\n",
            "\n",
            "Giovanni Caruso, Amico's great-grandfather, was a man of the earth. His calloused hands spoke of years spent cultivating the fertile soils of Santa Caterina, producing olives and grapes that were the pride of the region. Giovanni was not just a farmer but an alchemist of flavors, blending the fruits of his labor into exquisite oils and wines. His wife, Maria, was the soul of the kitchen. A masterful cook, Maria's dishes were a symphony of hearty stews and delicate pastries, passed down from her ancestors and refined with her own touch. The couple's home was a haven of culinary experimentation and love, where their children were introduced to the secrets of the Sicilian kitchen.\n",
            "\n",
            "Antonio Caruso: The Storyteller and Innovator\n",
            "\n",
            "Antonio, Giovanni and Maria's eldest son, inherited his parents' passion but added his flair for innovation. A charismatic storyteller, Antonio was known for captivating his family and the village with tales of their ancestry and the island's history. His culinary prowess was unmatched, blending traditional Sicilian flavors with inventive techniques he picked up from his travels across Italy. Antonio became the village's go-to chef for weddings and grand feasts, creating dishes that were both nostalgic and avant-garde. His most famous creation, a fusion of Sicilian and Tuscan flavors, laid the groundwork for what would later become Amico's signature style.\n",
            "\n",
            "Pietro and Sofia: The Guardians of Tradition\n",
            "\n",
            "Pietro, Antonio's eldest son, was a skilled fisherman who loved the sea as much as the kitchen. His daily catches were the freshest seafood in the village, a staple in the family trattoria he ran with his wife, Sofia. Sofia was a baker par excellence, known for her incredible pastries and bread. Together, they transformed the trattoria into a local institution, famous for its warm hospitality and authentic flavors. The trattoria was a microcosm of Sicilian culture, where stories were shared over plates of fresh pasta and glasses of homemade wine. Pietro and Sofia instilled in their children, including Amico, the values of hard work, respect for tradition, and the joy of feeding others.\n",
            "\n",
            "Nonna Lucia: The Matriarch and Mentor\n",
            "\n",
            "Lucia, Antonio's sister and Amico's grandmother, was the matriarch of the Caruso family. A culinary sage, Nonna Lucia was the custodian of the family's recipes, a role she took very seriously. Her kitchen was a sacred space, where she taught her grandchildren the art of Sicilian cooking. Under her watchful eye, Amico learned the delicate balance of flavors in a Caponata and the intricate process of making fresh pasta. Nonna Lucia's influence extended beyond the kitchen; she was a pillar of strength and wisdom, guiding her family with love and a firm hand. Her teachings went beyond recipes, imparting lessons about life, love, and the importance of community.\n",
            "\n",
            "2. Other Restaurants Owned by Amico's Family: A Culinary Empire\n",
            "As the Caruso family grew, so did their culinary empire. Each member, having honed their skills under the tutelage of another, ventured into different regions, opening restaurants that showcased their unique interpretations of Italian cuisine. These establishments, while diverse in their offerings, were united by a common thread: a deep respect for tradition and a commitment to excellence.\n",
            "\n",
            "1. La Dolce Vita - Rome: Owned by Antonio Caruso\n",
            "\n",
            "After years of perfecting his craft in Santa Caterina, Antonio ventured to Rome, the Eternal City, where he opened \"La Dolce Vita.\" Situated near the iconic Trevi Fountain, this restaurant was Antonio's ode to Rome's vibrant culture. Antonio brought his innovative spirit to the city's classic dishes, offering a menu that included Cacio e Pepe and Carbonara, alongside his signature Truffle Risotto with Pecorino Romano. The restaurant's elegant ambiance, featuring live classical music, made it a popular destination. Antonio's ability to blend tradition with modernity, a skill he had honed from his father Giovanni, made \"La Dolce Vita\" a culinary landmark in Rome.\n",
            "\n",
            "2. Il Mare Nostrum - Amalfi Coast: Owned by Pietro Caruso\n",
            "\n",
            "Pietro, having inherited his father's love for the sea, opened \"Il Mare Nostrum\" on the breathtaking Amalfi Coast. This restaurant was a celebration of Italy's coastal cuisine, with a focus on the freshest seafood. Pietro's expertise in fishing ensured that the daily catch was of the highest quality, while his wife Sofia's baking skills added a unique twist to the menu. Signature dishes like Grilled Octopus with Lemon and Herbs and Spaghetti alle Vongole became instant classics. The stunning views of the Mediterranean, coupled with the restaurant's serene ambiance, made \"Il Mare Nostrum\" a must-visit for anyone exploring the Amalfi Coast.\n",
            "\n",
            "3. La Terra di Siena - Tuscany: Owned by Sofia Caruso\n",
            "\n",
            "Sofia, the family's talented baker, found her calling amidst the rolling hills of Tuscany. She opened \"La Terra di Siena,\" a rustic retreat that emphasized a farm-to-table dining experience. The restaurant, housed in a beautifully restored farmhouse, showcased the best of Tuscan cuisine, from Bistecca alla Fiorentina to Pappardelle al Cinghiale. Sofia's desserts, particularly her Tiramisu and Panna Cotta, were legendary, attracting visitors from far and wide. The restaurant's picturesque setting, surrounded by vineyards and olive groves, provided a perfect backdrop for wine tastings and intimate dinners. Sofia's attention to detail and her commitment to using locally sourced ingredients made \"La Terra di Siena\" a favorite among food enthusiasts.\n",
            "\n",
            "4. Amico's - New York City: Owned by Amico Caruso\n",
            "\n",
            "Amico, inspired by his family's culinary legacy and his travels, opened \"Amico's\" in the bustling metropolis of New York City. The restaurant was a modern take on Italian cuisine, blending traditional recipes with contemporary trends. The menu featured a range of dishes, from Porcini Mushroom Risotto to Burrata with Heirloom Tomatoes. Amico's passion for Sicilian cuisine was evident in every dish, but he also incorporated influences from his experiences across Italy and beyond. \"Amico's\" quickly became a culinary hotspot, attracting a diverse clientele, including celebrities and food critics. The restaurant's chic interior and Amico's charismatic presence made it a standout in the competitive New York dining scene.\n",
            "\n",
            "5. Bella Vita - Los Angeles: Owned by Lucia Caruso\n",
            "\n",
            "Lucia, named after her grandmother and inheriting her culinary talent, brought a piece of Sicily to sunny Los Angeles with \"Bella Vita.\" Lucia was a creative force, combining her grandmother's traditional recipes with her flair for innovation. The restaurant offered a menu that catered to LA's diverse and health-conscious population, featuring dishes like gluten-free pasta and organic salads, alongside indulgent classics like Lasagna and Cannoli. \"Bella Vita's\" rooftop bar, offering panoramic views of the city, became a popular spot for enjoying Italian-inspired cocktails and small plates. Lucia's commitment to sustainability and her support for local artists made \"Bella Vita\" a hub for food, art, and culture.\n",
            "\n",
            "3. Amicoâ€™s Community Involvement and Social Causes\n",
            "The Caruso family's influence extended beyond their restaurants, as they collectively believed in the power of food to make a difference. Their commitment to social causes was a cornerstone of their philosophy, reflected in various initiatives aimed at giving back to the community and promoting cultural exchange.\n",
            "\n",
            "1. Culinary Workshops and Mentorship Programs\n",
            "\n",
            "Each member of the Caruso family played a role in nurturing the next generation of chefs. Antonio hosted workshops in Rome, sharing his innovative techniques, while Pietro and Sofia offered classes in seafood preparation and baking, respectively. Lucia, in Los Angeles, focused on sustainable cooking practices, teaching aspiring chefs the importance of using organic and local ingredients. These workshops provided invaluable hands-on experience, and the family's mentorship programs offered guidance and support to young chefs from diverse backgrounds.\n",
            "\n",
            "2. Farm-to-Table Initiatives\n",
            "\n",
            "The Carusos were strong advocates for sustainable and ethical food practices. Amico, in particular, spearheaded the \"Farm-to-Table\" initiative, collaborating with local farmers and producers across all their restaurants. This initiative ensured that their establishments used only the freshest, locally sourced ingredients, promoting environmental sustainability and supporting the local economy. The family also worked together to raise awareness about the benefits of consuming seasonal and organic produce.\n",
            "\n",
            "3. Food for All: Community Kitchens and Food Drives\n",
            "\n",
            "In their efforts to address food insecurity, the Carusos launched the \"Food for All\" initiative, setting up community kitchens in each city where they had restaurants. These kitchens provided free meals to the homeless and low-income families, ensuring that everyone had access to nutritious food. Additionally, they organized food drives, collecting donations from patrons and local businesses. The initiative was a family effort, with each member contributing their skills and resources to help those in need.\n",
            "\n",
            "4. Cultural and Culinary Festivals\n",
            "\n",
            "The Carusos believed in celebrating diversity through food and culture. They organized annual cultural and culinary festivals at their respective restaurants, showcasing traditional Sicilian dishes alongside other international cuisines. These festivals featured live performances, cooking demonstrations, and artisan markets, creating a vibrant and inclusive atmosphere. The events were not only a celebration of food but also a platform for cultural exchange, bringing people from different backgrounds together.\n",
            "\n",
            "5. Support for Local Artists and Artisans\n",
            "\n",
            "Art and food were intertwined in the Caruso family's philosophy. Each restaurant featured works by local artists, from paintings and sculptures to handcrafted ceramics. Amico, in particular, was a strong advocate for the arts, hosting exhibitions and events that promoted local talent. The family's support extended beyond the visual arts, as they also collaborated with local musicians and performers, enriching the cultural experience at their establishments.\n",
            "\n",
            "Conclusion\n",
            "The Caruso family's story is a rich tapestry of love, tradition, and culinary excellence. From the picturesque village of Santa Caterina to the bustling streets of New York City, they have left an indelible mark on the culinary world. Each family member, with their unique background and talents, has contributed to the family's legacy, creating a culinary empire that spans continents. Their commitment to social causes and community involvement reflects their belief in the power of food to connect people and make a positive impact. The Caruso family's journey is a testament to the enduring power of tradition, innovation, and the joy of sharing good food with others.\n"
          ]
        }
      ],
      "source": [
        "print(len(docs))\n",
        "print(docs[0].page_content)"
      ]
    },
    {
      "cell_type": "code",
      "execution_count": 8,
      "metadata": {},
      "outputs": [],
      "source": [
        "text_splitter = RecursiveCharacterTextSplitter(chunk_size=250, chunk_overlap=24)\n",
        "chunks = text_splitter.split_documents(docs)"
      ]
    },
    {
      "cell_type": "code",
      "execution_count": 9,
      "metadata": {},
      "outputs": [
        {
          "name": "stdout",
          "output_type": "stream",
          "text": [
            "73\n",
            "1. The Story of Amicoâ€™s Family: A Legacy of Love and Tradition\n"
          ]
        }
      ],
      "source": [
        "print(len(chunks))\n",
        "print(chunks[0].page_content)"
      ]
    },
    {
      "cell_type": "code",
      "execution_count": 10,
      "metadata": {
        "id": "pXf7OTGHtHNW"
      },
      "outputs": [
        {
          "name": "stderr",
          "output_type": "stream",
          "text": [
            "C:\\Users\\hites\\AppData\\Local\\Temp\\ipykernel_32544\\2567363932.py:1: LangChainDeprecationWarning: The class `ChatOpenAI` was deprecated in LangChain 0.0.10 and will be removed in 1.0. An updated version of the class exists in the :class:`~langchain-openai package and should be used instead. To use it run `pip install -U :class:`~langchain-openai` and import as `from :class:`~langchain_openai import ChatOpenAI``.\n",
            "  llm = ChatOpenAI(model=\"gpt-4.1-nano\", temperature=0)\n"
          ]
        },
        {
          "name": "stdout",
          "output_type": "stream",
          "text": [
            "Model: gpt-4.1-nano\n"
          ]
        }
      ],
      "source": [
        "\n",
        "llm = ChatOpenAI(model=\"gpt-4.1-nano\", temperature=0)\n",
        "\n",
        "llm_graph_transformer = LLMGraphTransformer(llm=llm)\n",
        "\n",
        "print(\"Model:\", llm.model_name)\n",
        "graph_documents = llm_graph_transformer.convert_to_graph_documents(chunks)\n",
        "\n"
      ]
    },
    {
      "cell_type": "code",
      "execution_count": 12,
      "metadata": {},
      "outputs": [
        {
          "name": "stdout",
          "output_type": "stream",
          "text": [
            "73\n"
          ]
        },
        {
          "data": {
            "text/plain": [
              "GraphDocument(nodes=[Node(id='Love and Tradition', type='Concept', properties={}), Node(id=\"Amico's Family\", type='Person', properties={})], relationships=[Relationship(source=Node(id=\"Amico's Family\", type='Person', properties={}), target=Node(id='Love and Tradition', type='Concept', properties={}), type='HAS_LEGACY', properties={})], source=Document(metadata={'source': 'dummytext.txt'}, page_content='1. The Story of Amicoâ€™s Family: A Legacy of Love and Tradition'))"
            ]
          },
          "execution_count": 12,
          "metadata": {},
          "output_type": "execute_result"
        }
      ],
      "source": [
        "print(len(graph_documents))\n",
        "graph_documents[0]"
      ]
    },
    {
      "cell_type": "code",
      "execution_count": 13,
      "metadata": {},
      "outputs": [],
      "source": [
        "graph.add_graph_documents(\n",
        "    graph_documents,\n",
        "    baseEntityLabel=True,\n",
        "    include_source=True\n",
        ")"
      ]
    },
    {
      "cell_type": "code",
      "execution_count": null,
      "metadata": {
        "id": "GHbJPMfDtHNW"
      },
      "outputs": [],
      "source": [
        "embeddings = OpenAIEmbeddings(model=\"text-embedding-3-small\")\n",
        "\n",
        "vector_index = Neo4jVector.from_existing_graph(\n",
        "    embeddings,\n",
        "    search_type=\"hybrid\",\n",
        "    node_label=\"Document\",\n",
        "    text_node_properties=[\"text\"],\n",
        "    embedding_node_property=\"embedding\"\n",
        ")\n"
      ]
    },
    {
      "cell_type": "code",
      "execution_count": 18,
      "metadata": {},
      "outputs": [
        {
          "data": {
            "text/plain": [
              "<langchain_neo4j.vectorstores.neo4j_vector.Neo4jVector at 0x20cd9997990>"
            ]
          },
          "execution_count": 18,
          "metadata": {},
          "output_type": "execute_result"
        }
      ],
      "source": [
        "vector_index"
      ]
    },
    {
      "cell_type": "code",
      "execution_count": 20,
      "metadata": {},
      "outputs": [],
      "source": [
        "vector_retriever = vector_index.as_retriever()"
      ]
    },
    {
      "cell_type": "code",
      "execution_count": 22,
      "metadata": {
        "colab": {
          "base_uri": "https://localhost:8080/",
          "height": 817,
          "referenced_widgets": [
            "8e37edd9789a4d57a7be401628e7ff7f",
            "9bac7003afd84cecb4e67a81a396ec8d"
          ]
        },
        "id": "RMZlhtDmtHNW",
        "outputId": "86efa842-3297-45d6-dab2-681bbc836b4d"
      },
      "outputs": [
        {
          "name": "stdout",
          "output_type": "stream",
          "text": [
            "Fulltext index already exists.\n"
          ]
        }
      ],
      "source": [
        "driver = GraphDatabase.driver(\n",
        "        uri = os.environ[\"NEO4J_URI\"],\n",
        "        auth = (os.environ[\"NEO4J_USERNAME\"],\n",
        "                os.environ[\"NEO4J_PASSWORD\"]))\n",
        "\n",
        "def create_fulltext_index(tx):\n",
        "    query = '''\n",
        "    CREATE FULLTEXT INDEX `fulltext_entity_id` \n",
        "    FOR (n:__Entity__) \n",
        "    ON EACH [n.id];\n",
        "    '''\n",
        "    tx.run(query)\n",
        "\n",
        "# Function to execute the query\n",
        "def create_index():\n",
        "    with driver.session() as session:\n",
        "        session.execute_write(create_fulltext_index)\n",
        "        print(\"Fulltext index created successfully.\")\n",
        "\n",
        "# Call the function to create the index\n",
        "try:\n",
        "    create_index()\n",
        "except:\n",
        "    print(\"Fulltext index already exists.\")\n",
        "\n",
        "# Close the driver connection\n",
        "driver.close()"
      ]
    },
    {
      "cell_type": "code",
      "execution_count": 23,
      "metadata": {
        "colab": {
          "base_uri": "https://localhost:8080/"
        },
        "id": "6yCMz_sRtHNW",
        "outputId": "f533f279-9a2b-48d6-830b-28d04c43550b"
      },
      "outputs": [],
      "source": [
        "\n",
        "class Entities(BaseModel):\n",
        "    \"\"\"Identifying information about entities.\"\"\"\n",
        "\n",
        "    names: list[str] = Field(\n",
        "        ...,\n",
        "        description=\"All the person, organization, or business entities that \"\n",
        "        \"appear in the text\",\n",
        "    )\n"
      ]
    },
    {
      "cell_type": "code",
      "execution_count": 24,
      "metadata": {},
      "outputs": [],
      "source": [
        "parser = PydanticOutputParser(pydantic_object=Entities)\n",
        "format_instructions = parser.get_format_instructions()\n",
        "\n",
        "# Double‐escape all braces in the JSON template\n",
        "escaped_instructions = format_instructions.replace(\"{\", \"{{\").replace(\"}\", \"}}\")\n",
        "\n",
        "entity_prompt = ChatPromptTemplate.from_messages(\n",
        "    [\n",
        "        (\n",
        "            \"system\",\n",
        "            \"You are extracting organization and person entities from the text.\",\n",
        "        ),\n",
        "        (\n",
        "            \"human\",\n",
        "            \"Please return valid JSON that matches this format:\\n\"\n",
        "            \"```\\n\"                # open a literal code block\n",
        "            f\"{escaped_instructions}\\n\"\n",
        "            \"```\\n\\n\"               # close the code block\n",
        "            \"Use the given format to extract information from the following \"\n",
        "            \"input: {question}\",\n",
        "        ),\n",
        "    ]\n",
        ")\n",
        "\n"
      ]
    },
    {
      "cell_type": "code",
      "execution_count": 25,
      "metadata": {},
      "outputs": [
        {
          "name": "stdout",
          "output_type": "stream",
          "text": [
            "input_variables=['question'] input_types={} partial_variables={} messages=[SystemMessagePromptTemplate(prompt=PromptTemplate(input_variables=[], input_types={}, partial_variables={}, template='You are extracting organization and person entities from the text.'), additional_kwargs={}), HumanMessagePromptTemplate(prompt=PromptTemplate(input_variables=['question'], input_types={}, partial_variables={}, template='Please return valid JSON that matches this format:\\n```\\nThe output should be formatted as a JSON instance that conforms to the JSON schema below.\\n\\nAs an example, for the schema {{\"properties\": {{\"foo\": {{\"title\": \"Foo\", \"description\": \"a list of strings\", \"type\": \"array\", \"items\": {{\"type\": \"string\"}}}}}}, \"required\": [\"foo\"]}}\\nthe object {{\"foo\": [\"bar\", \"baz\"]}} is a well-formatted instance of the schema. The object {{\"properties\": {{\"foo\": [\"bar\", \"baz\"]}}}} is not well-formatted.\\n\\nHere is the output schema:\\n```\\n{{\"description\": \"Identifying information about entities.\", \"properties\": {{\"names\": {{\"description\": \"All the person, organization, or business entities that appear in the text\", \"items\": {{\"type\": \"string\"}}, \"title\": \"Names\", \"type\": \"array\"}}}}, \"required\": [\"names\"]}}\\n```\\n```\\n\\nUse the given format to extract information from the following input: {question}'), additional_kwargs={})]\n"
          ]
        }
      ],
      "source": [
        "print(entity_prompt)"
      ]
    },
    {
      "cell_type": "code",
      "execution_count": 39,
      "metadata": {},
      "outputs": [],
      "source": [
        "def extract_entities(input: str) -> list[str]:\n",
        "    # 1) Build the correctly escaped/formatted message list\n",
        "    messages = entity_prompt.format_messages(question=input)\n",
        "\n",
        "    # 2) Send those messages to the LLM\n",
        "    response = llm.invoke(messages)\n",
        "\n",
        "    # 3) Get the raw string (which should now be valid JSON)\n",
        "    raw_json = response.content\n",
        "\n",
        "    # 4) Parse into your Pydantic model\n",
        "    result = parser.parse(raw_json)\n",
        "    return result.names\n"
      ]
    },
    {
      "cell_type": "code",
      "execution_count": 40,
      "metadata": {
        "colab": {
          "base_uri": "https://localhost:8080/"
        },
        "id": "54H15KNAtHNX",
        "outputId": "236df5a6-9f9e-49fd-a360-e4bb51dc7288"
      },
      "outputs": [
        {
          "name": "stdout",
          "output_type": "stream",
          "text": [
            "['Nonna Lucia', 'Giovanni Caruso']\n"
          ]
        }
      ],
      "source": [
        "entity_names = extract_entities(\"Who are Nonna Lucia and Giovanni Caruso?\")\n",
        "print(entity_names)"
      ]
    },
    {
      "cell_type": "code",
      "execution_count": 53,
      "metadata": {},
      "outputs": [],
      "source": [
        "# Fulltext index query\n",
        "def graph_retriever(question: str) -> str:\n",
        "    \"\"\"\n",
        "    Collects the neighborhood of entities mentioned\n",
        "    in the question\n",
        "    \"\"\"\n",
        "    result = \"\"\n",
        "    entities = extract_entities(question)\n",
        "    for entity in entities:\n",
        "        response = graph.query(\n",
        "            \"\"\"CALL db.index.fulltext.queryNodes('fulltext_entity_id', $query)\n",
        "            YIELD node,score\n",
        "            CALL {\n",
        "              WITH node\n",
        "              MATCH (node)-[r:!MENTIONS]->(neighbor)\n",
        "              RETURN node.id + ' - ' + type(r) + ' -> ' + neighbor.id AS output\n",
        "              UNION ALL\n",
        "              WITH node\n",
        "              MATCH (node)<-[r:!MENTIONS]-(neighbor)\n",
        "              RETURN neighbor.id + ' - ' + type(r) + ' -> ' +  node.id AS output\n",
        "            }\n",
        "            RETURN output LIMIT 50\n",
        "            \"\"\",\n",
        "            {\"query\": entity},\n",
        "        )\n",
        "        result += \"\\n\".join([el['output'] for el in response])\n",
        "    return result"
      ]
    },
    {
      "cell_type": "code",
      "execution_count": 54,
      "metadata": {
        "colab": {
          "base_uri": "https://localhost:8080/"
        },
        "id": "_6fOJRPntHNX",
        "outputId": "a99ffca0-2d4d-4374-8519-c6e37c395f1f"
      },
      "outputs": [
        {
          "name": "stdout",
          "output_type": "stream",
          "text": [
            "Nonna Lucia - IS_ROLE_OF -> custodian of the family's recipes\n",
            "Nonna Lucia - TAUGHT_IN -> her kitchen\n",
            "Nonna Lucia - HAS_ROLE -> Mentor\n",
            "Nonna Lucia - HAS_ROLE -> Matriarch\n",
            "Nonna Lucia - TAUGHT_IN -> kitchen\n",
            "Nonna Lucia - IS_CUSTODIAN_OF -> family's recipes\n",
            "Nonna Lucia - INFLUENCED -> kitchen\n",
            "Nonna Lucia - TOOK_ROLE_SERIOUSLY -> custodian of the family's recipes\n",
            "Nonna Lucia - WAS_CUSTODIAN_OF -> family's recipes\n",
            "Nonna Lucia - IS_A -> Mentor\n",
            "Nonna Lucia - IS_A -> Matriarch\n",
            "she - INFLUENCED -> Nonna Lucia\n",
            "Her kitchen - IS_SACRED_SPACE_OF -> Nonna Lucia\n",
            "Lucia - IS_CULINARY_SAGE -> Nonna Lucia\n",
            "Lucia - HAS_ROLE -> Nonna\n",
            "Lucia - USES -> innovation\n",
            "Lucia - TAUGHT_IN -> her kitchen\n",
            "Lucia - WAS_CUSTODIAN_OF -> family's recipes\n",
            "Lucia - IS_CULINARY_SAGE -> Culinary expertise\n",
            "Lucia - COMBINES -> traditional recipes and innovation\n",
            "Lucia - CREATED_PRODUCT -> Bella Vita\n",
            "Lucia - BROUGHT_TO -> Los Angeles\n",
            "Lucia - LOCATED_IN -> Los Angeles\n",
            "Lucia - FOCUSES_ON -> sustainable cooking practices\n",
            "Lucia - EMPHASIZES -> organic and local ingredients\n",
            "Lucia - INHERITS -> culinary talent\n",
            "Lucia - BRINGS -> Sicily\n",
            "Lucia - COMBINES -> grandmother's traditional recipes\n",
            "Lucia - CREATES -> Bella Vita\n",
            "Lucia - COMBINES -> flair for innovation\n",
            "Lucia - HAS_LOCATION -> kitchen\n",
            "Lucia - HAS_ROLE -> custodian\n",
            "Lucia - HAS_ROLE -> teacher\n",
            "Lucia - HAS_RELATION -> Antonio\n",
            "Lucia - HAS_ROLE -> culinary sage\n",
            "Lucia - HAS_ROLE -> Nonna\n",
            "Lucia - HAS_ROLE -> matriarch\n",
            "Lucia - HAS_RELATION -> Amico\n",
            "Lucia - PROMOTES -> sustainability\n",
            "Lucia - IS_CUSTODIAN_OF -> family's recipes\n",
            "Lucia - ROLE -> matriarch of the Caruso family\n",
            "Lucia - LIVES_IN -> Los Angeles\n",
            "Lucia - FOCUSED_ON -> sustainable cooking practices\n",
            "Lucia - TEACHES -> aspiring chefs\n",
            "Lucia - SUPPORTS -> local artists\n",
            "Lucia - COMMITTED_TO -> sustainability\n",
            "Lucia - CREATIVE_FORCE -> traditional recipes\n",
            "Lucia - INHERITS_TALENT -> culinary talent\n",
            "Lucia - NAMED_AFTER -> her grandmother\n",
            "Lucia - COMBINES_WITH -> her flair for innovation\n"
          ]
        }
      ],
      "source": [
        "print(graph_retriever(\"Who is Nonna Lucia?\"))"
      ]
    },
    {
      "cell_type": "code",
      "execution_count": 55,
      "metadata": {
        "id": "iCTMp3prtHNX"
      },
      "outputs": [],
      "source": [
        "def full_retriever(question: str):\n",
        "    graph_data = graph_retriever(question)\n",
        "    vector_data = [el.page_content for el in vector_retriever.invoke(question)]\n",
        "    final_data = f\"\"\"Graph data:\n",
        "{graph_data}\n",
        "vector data:\n",
        "{\"#Document \". join(vector_data)}\n",
        "    \"\"\"\n",
        "    return final_data"
      ]
    },
    {
      "cell_type": "code",
      "execution_count": 56,
      "metadata": {
        "id": "Dzb2jcittHNY"
      },
      "outputs": [],
      "source": [
        "template = \"\"\"Answer the question based only on the following context:\n",
        "{context}\n",
        "\n",
        "Question: {question}\n",
        "Use natural language and be concise.\n",
        "Answer:\"\"\"\n",
        "prompt = ChatPromptTemplate.from_template(template)\n",
        "\n",
        "chain = (\n",
        "        {\n",
        "            \"context\": full_retriever,\n",
        "            \"question\": RunnablePassthrough(),\n",
        "        }\n",
        "    | prompt\n",
        "    | llm\n",
        "    | StrOutputParser() \n",
        ")"
      ]
    },
    {
      "cell_type": "code",
      "execution_count": 57,
      "metadata": {
        "colab": {
          "base_uri": "https://localhost:8080/",
          "height": 53
        },
        "id": "dtU0iMNgtHNY",
        "outputId": "bf3cf94c-f030-41b4-fb3b-356c5bff98f5"
      },
      "outputs": [
        {
          "data": {
            "text/plain": [
              "'Yes, Nonna Lucia is a person who taught her grandchildren about Sicilian cooking.'"
            ]
          },
          "execution_count": 57,
          "metadata": {},
          "output_type": "execute_result"
        }
      ],
      "source": [
        "\n",
        "chain.invoke(input=\"is Nonna Lucia? Did she teach anyone about restaurants or cooking?\")"
      ]
    }
  ],
  "metadata": {
    "colab": {
      "include_colab_link": true,
      "provenance": []
    },
    "kernelspec": {
      "display_name": ".venv",
      "language": "python",
      "name": "python3"
    },
    "language_info": {
      "codemirror_mode": {
        "name": "ipython",
        "version": 3
      },
      "file_extension": ".py",
      "mimetype": "text/x-python",
      "name": "python",
      "nbconvert_exporter": "python",
      "pygments_lexer": "ipython3",
      "version": "3.11.9"
    },
    "widgets": {
      "application/vnd.jupyter.widget-state+json": {
        "8e37edd9789a4d57a7be401628e7ff7f": {
          "model_module": "yfiles-jupyter-graphs",
          "model_module_version": "^1.6.1",
          "model_name": "GraphModel",
          "state": {
            "_context_pane_mapping": [
              {
                "id": "Neighborhood",
                "title": "Neighborhood"
              },
              {
                "id": "Data",
                "title": "Data"
              },
              {
                "id": "Search",
                "title": "Search"
              },
              {
                "id": "About",
                "title": "About"
              }
            ],
            "_data_importer": "neo4j",
            "_directed": true,
            "_dom_classes": [],
            "_edges": [
              {
                "color": "#9C27B0",
                "directed": true,
                "end": 2,
                "id": 14,
                "label": "RULED",
                "properties": {
                  "label": "RULED"
                },
                "start": 1,
                "thickness_factor": 1
              },
              {
                "color": "#9C27B0",
                "directed": true,
                "end": 3,
                "id": 15,
                "label": "RULED",
                "properties": {
                  "label": "RULED"
                },
                "start": 1,
                "thickness_factor": 1
              },
              {
                "color": "#2196F3",
                "directed": true,
                "end": 4,
                "id": 16,
                "label": "BELONGED_TO",
                "properties": {
                  "label": "BELONGED_TO"
                },
                "start": 1,
                "thickness_factor": 1
              },
              {
                "color": "#4CAF50",
                "directed": true,
                "end": 5,
                "id": 17,
                "label": "PARENT",
                "properties": {
                  "label": "PARENT"
                },
                "start": 1,
                "thickness_factor": 1
              },
              {
                "color": "#4CAF50",
                "directed": true,
                "end": 6,
                "id": 18,
                "label": "PARENT",
                "properties": {
                  "label": "PARENT"
                },
                "start": 1,
                "thickness_factor": 1
              },
              {
                "color": "#F44336",
                "directed": true,
                "end": 6,
                "id": 19,
                "label": "SPOUSE",
                "properties": {
                  "label": "SPOUSE"
                },
                "start": 5,
                "thickness_factor": 1
              },
              {
                "color": "#4CAF50",
                "directed": true,
                "end": 7,
                "id": 20,
                "label": "PARENT",
                "properties": {
                  "label": "PARENT"
                },
                "start": 5,
                "thickness_factor": 1
              },
              {
                "color": "#607D8B",
                "directed": true,
                "end": 8,
                "id": 21,
                "label": "BEQUEATHED_CROWN_TO",
                "properties": {
                  "label": "BEQUEATHED_CROWN_TO"
                },
                "start": 7,
                "thickness_factor": 1
              },
              {
                "color": "#673AB7",
                "directed": true,
                "end": 9,
                "id": 22,
                "label": "IGNORED_CLAIMS_OF",
                "properties": {
                  "label": "IGNORED_CLAIMS_OF"
                },
                "start": 7,
                "thickness_factor": 1
              },
              {
                "color": "#673AB7",
                "directed": true,
                "end": 1,
                "id": 23,
                "label": "IGNORED_CLAIMS_OF",
                "properties": {
                  "label": "IGNORED_CLAIMS_OF"
                },
                "start": 7,
                "thickness_factor": 1
              },
              {
                "color": "#CDDC39",
                "directed": true,
                "end": 1,
                "id": 24,
                "label": "IMPRISONED",
                "properties": {
                  "label": "IMPRISONED"
                },
                "start": 9,
                "thickness_factor": 1
              },
              {
                "color": "#9E9E9E",
                "directed": true,
                "end": 10,
                "id": 25,
                "label": "DEPENDED_ON",
                "properties": {
                  "label": "DEPENDED_ON"
                },
                "start": 1,
                "thickness_factor": 1
              },
              {
                "color": "#9C27B0",
                "directed": true,
                "end": 11,
                "id": 26,
                "label": "CREATED_TITLE",
                "properties": {
                  "label": "CREATED_TITLE"
                },
                "start": 1,
                "thickness_factor": 1
              },
              {
                "color": "#2196F3",
                "directed": true,
                "end": 12,
                "id": 27,
                "label": "SUCCEEDED_BY",
                "properties": {
                  "label": "SUCCEEDED_BY"
                },
                "start": 1,
                "thickness_factor": 1
              },
              {
                "color": "#4CAF50",
                "directed": true,
                "end": 12,
                "id": 28,
                "label": "PARENT",
                "properties": {
                  "label": "PARENT"
                },
                "start": 13,
                "thickness_factor": 1
              },
              {
                "color": "#9E9E9E",
                "directed": true,
                "end": 14,
                "id": 29,
                "label": "DEPENDED_ON",
                "properties": {
                  "label": "DEPENDED_ON"
                },
                "start": 1,
                "thickness_factor": 1
              },
              {
                "color": "#4CAF50",
                "directed": true,
                "end": 17,
                "id": 40,
                "label": "WAR",
                "properties": {
                  "label": "WAR"
                },
                "start": 16,
                "thickness_factor": 1
              },
              {
                "color": "#4CAF50",
                "directed": true,
                "end": 18,
                "id": 41,
                "label": "WAR",
                "properties": {
                  "label": "WAR"
                },
                "start": 16,
                "thickness_factor": 1
              },
              {
                "color": "#4CAF50",
                "directed": true,
                "end": 19,
                "id": 42,
                "label": "WAR",
                "properties": {
                  "label": "WAR"
                },
                "start": 16,
                "thickness_factor": 1
              },
              {
                "color": "#4CAF50",
                "directed": true,
                "end": 3,
                "id": 43,
                "label": "WAR",
                "properties": {
                  "label": "WAR"
                },
                "start": 16,
                "thickness_factor": 1
              },
              {
                "color": "#F44336",
                "directed": true,
                "end": 20,
                "id": 44,
                "label": "LEAD",
                "properties": {
                  "label": "LEAD"
                },
                "start": 16,
                "thickness_factor": 1
              },
              {
                "color": "#F44336",
                "directed": true,
                "end": 21,
                "id": 45,
                "label": "LEAD",
                "properties": {
                  "label": "LEAD"
                },
                "start": 16,
                "thickness_factor": 1
              },
              {
                "color": "#F44336",
                "directed": true,
                "end": 22,
                "id": 46,
                "label": "LEAD",
                "properties": {
                  "label": "LEAD"
                },
                "start": 16,
                "thickness_factor": 1
              },
              {
                "color": "#F44336",
                "directed": true,
                "end": 23,
                "id": 47,
                "label": "LEAD",
                "properties": {
                  "label": "LEAD"
                },
                "start": 16,
                "thickness_factor": 1
              },
              {
                "color": "#607D8B",
                "directed": true,
                "end": 24,
                "id": 48,
                "label": "DEFEAT",
                "properties": {
                  "label": "DEFEAT"
                },
                "start": 16,
                "thickness_factor": 1
              },
              {
                "color": "#673AB7",
                "directed": true,
                "end": 12,
                "id": 64,
                "label": "SUCCESSOR",
                "properties": {
                  "label": "SUCCESSOR"
                },
                "start": 1,
                "thickness_factor": 1
              },
              {
                "color": "#673AB7",
                "directed": true,
                "end": 7,
                "id": 65,
                "label": "SUCCESSOR",
                "properties": {
                  "label": "SUCCESSOR"
                },
                "start": 5,
                "thickness_factor": 1
              },
              {
                "color": "#673AB7",
                "directed": true,
                "end": 29,
                "id": 66,
                "label": "SUCCESSOR",
                "properties": {
                  "label": "SUCCESSOR"
                },
                "start": 5,
                "thickness_factor": 1
              },
              {
                "color": "#673AB7",
                "directed": true,
                "end": 1,
                "id": 67,
                "label": "SUCCESSOR",
                "properties": {
                  "label": "SUCCESSOR"
                },
                "start": 5,
                "thickness_factor": 1
              },
              {
                "color": "#673AB7",
                "directed": true,
                "end": 30,
                "id": 68,
                "label": "SUCCESSOR",
                "properties": {
                  "label": "SUCCESSOR"
                },
                "start": 5,
                "thickness_factor": 1
              },
              {
                "color": "#673AB7",
                "directed": true,
                "end": 31,
                "id": 69,
                "label": "SUCCESSOR",
                "properties": {
                  "label": "SUCCESSOR"
                },
                "start": 5,
                "thickness_factor": 1
              },
              {
                "color": "#673AB7",
                "directed": true,
                "end": 32,
                "id": 70,
                "label": "SUCCESSOR",
                "properties": {
                  "label": "SUCCESSOR"
                },
                "start": 5,
                "thickness_factor": 1
              },
              {
                "color": "#673AB7",
                "directed": true,
                "end": 33,
                "id": 71,
                "label": "SUCCESSOR",
                "properties": {
                  "label": "SUCCESSOR"
                },
                "start": 5,
                "thickness_factor": 1
              },
              {
                "color": "#CDDC39",
                "directed": true,
                "end": 34,
                "id": 72,
                "label": "PREFERRED_SUCCESSOR",
                "properties": {
                  "label": "PREFERRED_SUCCESSOR"
                },
                "start": 29,
                "thickness_factor": 1
              },
              {
                "color": "#9E9E9E",
                "directed": true,
                "end": 35,
                "id": 73,
                "label": "FAMILY_RELATION",
                "properties": {
                  "label": "FAMILY_RELATION"
                },
                "start": 34,
                "thickness_factor": 1
              },
              {
                "color": "#9C27B0",
                "directed": true,
                "end": 13,
                "id": 74,
                "label": "MARRIAGE",
                "properties": {
                  "label": "MARRIAGE"
                },
                "start": 35,
                "thickness_factor": 1
              },
              {
                "color": "#2196F3",
                "directed": true,
                "end": 37,
                "id": 91,
                "label": "GRANDPARENT",
                "properties": {
                  "label": "GRANDPARENT"
                },
                "start": 39,
                "thickness_factor": 1
              },
              {
                "color": "#2196F3",
                "directed": true,
                "end": 38,
                "id": 92,
                "label": "GRANDPARENT",
                "properties": {
                  "label": "GRANDPARENT"
                },
                "start": 39,
                "thickness_factor": 1
              },
              {
                "color": "#4CAF50",
                "directed": true,
                "end": 40,
                "id": 93,
                "label": "PARENT",
                "properties": {
                  "label": "PARENT"
                },
                "start": 34,
                "thickness_factor": 1
              },
              {
                "color": "#4CAF50",
                "directed": true,
                "end": 38,
                "id": 94,
                "label": "PARENT",
                "properties": {
                  "label": "PARENT"
                },
                "start": 40,
                "thickness_factor": 1
              },
              {
                "color": "#4CAF50",
                "directed": true,
                "end": 37,
                "id": 95,
                "label": "PARENT",
                "properties": {
                  "label": "PARENT"
                },
                "start": 13,
                "thickness_factor": 1
              },
              {
                "color": "#4CAF50",
                "directed": true,
                "end": 16,
                "id": 96,
                "label": "CONTENDER",
                "properties": {
                  "label": "CONTENDER"
                },
                "start": 13,
                "thickness_factor": 1
              },
              {
                "color": "#4CAF50",
                "directed": true,
                "end": 8,
                "id": 97,
                "label": "PARENT",
                "properties": {
                  "label": "PARENT"
                },
                "start": 41,
                "thickness_factor": 1
              },
              {
                "color": "#4CAF50",
                "directed": true,
                "end": 46,
                "id": 98,
                "label": "PARENT",
                "properties": {
                  "label": "PARENT"
                },
                "start": 41,
                "thickness_factor": 1
              },
              {
                "color": "#4CAF50",
                "directed": true,
                "end": 47,
                "id": 99,
                "label": "PARENT",
                "properties": {
                  "label": "PARENT"
                },
                "start": 41,
                "thickness_factor": 1
              },
              {
                "color": "#F44336",
                "directed": true,
                "end": 41,
                "id": 100,
                "label": "SPOUSE",
                "properties": {
                  "label": "SPOUSE"
                },
                "start": 44,
                "thickness_factor": 1
              },
              {
                "color": "#F44336",
                "directed": true,
                "end": 42,
                "id": 101,
                "label": "SPOUSE",
                "properties": {
                  "label": "SPOUSE"
                },
                "start": 44,
                "thickness_factor": 1
              },
              {
                "color": "#F44336",
                "directed": true,
                "end": 41,
                "id": 102,
                "label": "SPOUSE",
                "properties": {
                  "label": "SPOUSE"
                },
                "start": 45,
                "thickness_factor": 1
              },
              {
                "color": "#F44336",
                "directed": true,
                "end": 48,
                "id": 103,
                "label": "SPOUSE",
                "properties": {
                  "label": "SPOUSE"
                },
                "start": 46,
                "thickness_factor": 1
              },
              {
                "color": "#F44336",
                "directed": true,
                "end": 51,
                "id": 117,
                "label": "HELD_TITLE",
                "properties": {
                  "label": "HELD_TITLE"
                },
                "start": 50,
                "thickness_factor": 1
              }
            ],
            "_graph_layout": {},
            "_highlight": [],
            "_license": {},
            "_model_module": "yfiles-jupyter-graphs",
            "_model_module_version": "^1.6.1",
            "_model_name": "GraphModel",
            "_neighborhood": {},
            "_nodes": [
              {
                "color": "#2196F3",
                "id": 1,
                "label": "Elizabeth I",
                "position": [
                  0,
                  0
                ],
                "properties": {
                  "id": "Elizabeth I",
                  "label": "Person:__Entity__"
                },
                "scale_factor": 1,
                "size": [
                  55,
                  55
                ],
                "styles": {},
                "type": "#2196F3"
              },
              {
                "color": "#4CAF50",
                "id": 2,
                "label": "England",
                "position": [
                  0,
                  0
                ],
                "properties": {
                  "id": "England",
                  "label": "Country:__Entity__"
                },
                "scale_factor": 1,
                "size": [
                  55,
                  55
                ],
                "styles": {},
                "type": "#4CAF50"
              },
              {
                "color": "#4CAF50",
                "id": 3,
                "label": "Ireland",
                "position": [
                  0,
                  0
                ],
                "properties": {
                  "id": "Ireland",
                  "label": "Country:__Entity__"
                },
                "scale_factor": 1,
                "size": [
                  55,
                  55
                ],
                "styles": {},
                "type": "#4CAF50"
              },
              {
                "color": "#F44336",
                "id": 4,
                "label": "House Of Tudor",
                "position": [
                  0,
                  0
                ],
                "properties": {
                  "id": "House Of Tudor",
                  "label": "__Entity__:Royal family"
                },
                "scale_factor": 1,
                "size": [
                  55,
                  55
                ],
                "styles": {},
                "type": "#F44336"
              },
              {
                "color": "#2196F3",
                "id": 5,
                "label": "Henry Viii",
                "position": [
                  0,
                  0
                ],
                "properties": {
                  "id": "Henry Viii",
                  "label": "Person:__Entity__"
                },
                "scale_factor": 1,
                "size": [
                  55,
                  55
                ],
                "styles": {},
                "type": "#2196F3"
              },
              {
                "color": "#2196F3",
                "id": 6,
                "label": "Anne Boleyn",
                "position": [
                  0,
                  0
                ],
                "properties": {
                  "id": "Anne Boleyn",
                  "label": "Person:__Entity__"
                },
                "scale_factor": 1,
                "size": [
                  55,
                  55
                ],
                "styles": {},
                "type": "#2196F3"
              },
              {
                "color": "#2196F3",
                "id": 7,
                "label": "Edward Vi",
                "position": [
                  0,
                  0
                ],
                "properties": {
                  "id": "Edward Vi",
                  "label": "Person:__Entity__"
                },
                "scale_factor": 1,
                "size": [
                  55,
                  55
                ],
                "styles": {},
                "type": "#2196F3"
              },
              {
                "color": "#2196F3",
                "id": 8,
                "label": "Lady Jane Grey",
                "position": [
                  0,
                  0
                ],
                "properties": {
                  "id": "Lady Jane Grey",
                  "label": "Person:__Entity__"
                },
                "scale_factor": 1,
                "size": [
                  55,
                  55
                ],
                "styles": {},
                "type": "#2196F3"
              },
              {
                "color": "#2196F3",
                "id": 9,
                "label": "Mary",
                "position": [
                  0,
                  0
                ],
                "properties": {
                  "id": "Mary",
                  "label": "Person:__Entity__"
                },
                "scale_factor": 1,
                "size": [
                  55,
                  55
                ],
                "styles": {},
                "type": "#2196F3"
              },
              {
                "color": "#2196F3",
                "id": 10,
                "label": "William Cecil",
                "position": [
                  0,
                  0
                ],
                "properties": {
                  "id": "William Cecil",
                  "label": "Person:__Entity__"
                },
                "scale_factor": 1,
                "size": [
                  55,
                  55
                ],
                "styles": {},
                "type": "#2196F3"
              },
              {
                "color": "#607D8B",
                "id": 11,
                "label": "Baron Burghley",
                "position": [
                  0,
                  0
                ],
                "properties": {
                  "id": "Baron Burghley",
                  "label": "Title:__Entity__"
                },
                "scale_factor": 1,
                "size": [
                  55,
                  55
                ],
                "styles": {},
                "type": "#607D8B"
              },
              {
                "color": "#2196F3",
                "id": 12,
                "label": "James Vi Of Scotland",
                "position": [
                  0,
                  0
                ],
                "properties": {
                  "id": "James Vi Of Scotland",
                  "label": "Person:__Entity__"
                },
                "scale_factor": 1,
                "size": [
                  55,
                  55
                ],
                "styles": {},
                "type": "#2196F3"
              },
              {
                "color": "#2196F3",
                "id": 13,
                "label": "Mary, Queen Of Scots",
                "position": [
                  0,
                  0
                ],
                "properties": {
                  "id": "Mary, Queen Of Scots",
                  "label": "Person:__Entity__"
                },
                "scale_factor": 1,
                "size": [
                  55,
                  55
                ],
                "styles": {},
                "type": "#2196F3"
              },
              {
                "color": "#2196F3",
                "id": 14,
                "label": "Francis Walsingham",
                "position": [
                  0,
                  0
                ],
                "properties": {
                  "id": "Francis Walsingham",
                  "label": "Person:__Entity__"
                },
                "scale_factor": 1,
                "size": [
                  55,
                  55
                ],
                "styles": {},
                "type": "#2196F3"
              },
              {
                "color": "#2196F3",
                "id": 16,
                "label": "Elizabeth",
                "position": [
                  0,
                  0
                ],
                "properties": {
                  "id": "Elizabeth",
                  "label": "Person:__Entity__"
                },
                "scale_factor": 1,
                "size": [
                  55,
                  55
                ],
                "styles": {},
                "type": "#2196F3"
              },
              {
                "color": "#4CAF50",
                "id": 17,
                "label": "Spain",
                "position": [
                  0,
                  0
                ],
                "properties": {
                  "id": "Spain",
                  "label": "Country:__Entity__"
                },
                "scale_factor": 1,
                "size": [
                  55,
                  55
                ],
                "styles": {},
                "type": "#4CAF50"
              },
              {
                "color": "#4CAF50",
                "id": 18,
                "label": "Netherlands",
                "position": [
                  0,
                  0
                ],
                "properties": {
                  "id": "Netherlands",
                  "label": "Country:__Entity__"
                },
                "scale_factor": 1,
                "size": [
                  55,
                  55
                ],
                "styles": {},
                "type": "#4CAF50"
              },
              {
                "color": "#4CAF50",
                "id": 19,
                "label": "France",
                "position": [
                  0,
                  0
                ],
                "properties": {
                  "id": "France",
                  "label": "Country:__Entity__"
                },
                "scale_factor": 1,
                "size": [
                  55,
                  55
                ],
                "styles": {},
                "type": "#4CAF50"
              },
              {
                "color": "#673AB7",
                "id": 20,
                "label": "William Shakespeare",
                "position": [
                  0,
                  0
                ],
                "properties": {
                  "id": "William Shakespeare",
                  "label": "Playwright:__Entity__"
                },
                "scale_factor": 1,
                "size": [
                  55,
                  55
                ],
                "styles": {},
                "type": "#673AB7"
              },
              {
                "color": "#673AB7",
                "id": 21,
                "label": "Christopher Marlowe",
                "position": [
                  0,
                  0
                ],
                "properties": {
                  "id": "Christopher Marlowe",
                  "label": "Playwright:__Entity__"
                },
                "scale_factor": 1,
                "size": [
                  55,
                  55
                ],
                "styles": {},
                "type": "#673AB7"
              },
              {
                "color": "#CDDC39",
                "id": 22,
                "label": "Francis Drake",
                "position": [
                  0,
                  0
                ],
                "properties": {
                  "id": "Francis Drake",
                  "label": "Explorer:__Entity__"
                },
                "scale_factor": 1,
                "size": [
                  55,
                  55
                ],
                "styles": {},
                "type": "#CDDC39"
              },
              {
                "color": "#CDDC39",
                "id": 23,
                "label": "Walter Raleigh",
                "position": [
                  0,
                  0
                ],
                "properties": {
                  "id": "Walter Raleigh",
                  "label": "Explorer:__Entity__"
                },
                "scale_factor": 1,
                "size": [
                  55,
                  55
                ],
                "styles": {},
                "type": "#CDDC39"
              },
              {
                "color": "#9E9E9E",
                "id": 24,
                "label": "Spanish Armada",
                "position": [
                  0,
                  0
                ],
                "properties": {
                  "id": "Spanish Armada",
                  "label": "Event:__Entity__"
                },
                "scale_factor": 1,
                "size": [
                  55,
                  55
                ],
                "styles": {},
                "type": "#9E9E9E"
              },
              {
                "color": "#2196F3",
                "id": 29,
                "label": "Mary I",
                "position": [
                  0,
                  0
                ],
                "properties": {
                  "id": "Mary I",
                  "label": "Person:__Entity__"
                },
                "scale_factor": 1,
                "size": [
                  55,
                  55
                ],
                "styles": {},
                "type": "#2196F3"
              },
              {
                "color": "#2196F3",
                "id": 30,
                "label": "Jane Grey",
                "position": [
                  0,
                  0
                ],
                "properties": {
                  "id": "Jane Grey",
                  "label": "Person:__Entity__"
                },
                "scale_factor": 1,
                "size": [
                  55,
                  55
                ],
                "styles": {},
                "type": "#2196F3"
              },
              {
                "color": "#2196F3",
                "id": 31,
                "label": "Katherine Grey",
                "position": [
                  0,
                  0
                ],
                "properties": {
                  "id": "Katherine Grey",
                  "label": "Person:__Entity__"
                },
                "scale_factor": 1,
                "size": [
                  55,
                  55
                ],
                "styles": {},
                "type": "#2196F3"
              },
              {
                "color": "#2196F3",
                "id": 32,
                "label": "Mary Grey",
                "position": [
                  0,
                  0
                ],
                "properties": {
                  "id": "Mary Grey",
                  "label": "Person:__Entity__"
                },
                "scale_factor": 1,
                "size": [
                  55,
                  55
                ],
                "styles": {},
                "type": "#2196F3"
              },
              {
                "color": "#2196F3",
                "id": 33,
                "label": "Margaret Clifford",
                "position": [
                  0,
                  0
                ],
                "properties": {
                  "id": "Margaret Clifford",
                  "label": "Person:__Entity__"
                },
                "scale_factor": 1,
                "size": [
                  55,
                  55
                ],
                "styles": {},
                "type": "#2196F3"
              },
              {
                "color": "#2196F3",
                "id": 34,
                "label": "Margaret Douglas",
                "position": [
                  0,
                  0
                ],
                "properties": {
                  "id": "Margaret Douglas",
                  "label": "Person:__Entity__"
                },
                "scale_factor": 1,
                "size": [
                  55,
                  55
                ],
                "styles": {},
                "type": "#2196F3"
              },
              {
                "color": "#2196F3",
                "id": 35,
                "label": "Henry Stuart, Lord Darnley",
                "position": [
                  0,
                  0
                ],
                "properties": {
                  "id": "Henry Stuart, Lord Darnley",
                  "label": "Person:__Entity__"
                },
                "scale_factor": 1,
                "size": [
                  55,
                  55
                ],
                "styles": {},
                "type": "#2196F3"
              },
              {
                "color": "#2196F3",
                "id": 39,
                "label": "Margaret Tudor",
                "position": [
                  0,
                  0
                ],
                "properties": {
                  "id": "Margaret Tudor",
                  "label": "Person:__Entity__"
                },
                "scale_factor": 1,
                "size": [
                  55,
                  55
                ],
                "styles": {},
                "type": "#2196F3"
              },
              {
                "color": "#2196F3",
                "id": 37,
                "label": "James Vi",
                "position": [
                  0,
                  0
                ],
                "properties": {
                  "id": "James Vi",
                  "label": "Person:__Entity__"
                },
                "scale_factor": 1,
                "size": [
                  55,
                  55
                ],
                "styles": {},
                "type": "#2196F3"
              },
              {
                "color": "#2196F3",
                "id": 38,
                "label": "Arbella Stuart",
                "position": [
                  0,
                  0
                ],
                "properties": {
                  "id": "Arbella Stuart",
                  "label": "Person:__Entity__"
                },
                "scale_factor": 1,
                "size": [
                  55,
                  55
                ],
                "styles": {},
                "type": "#2196F3"
              },
              {
                "color": "#2196F3",
                "id": 40,
                "label": "Charles Stuart",
                "position": [
                  0,
                  0
                ],
                "properties": {
                  "id": "Charles Stuart",
                  "label": "Person:__Entity__"
                },
                "scale_factor": 1,
                "size": [
                  55,
                  55
                ],
                "styles": {},
                "type": "#2196F3"
              },
              {
                "color": "#2196F3",
                "id": 41,
                "label": "Frances Grey",
                "position": [
                  0,
                  0
                ],
                "properties": {
                  "id": "Frances Grey",
                  "label": "Person:__Entity__"
                },
                "scale_factor": 1,
                "size": [
                  55,
                  55
                ],
                "styles": {},
                "type": "#2196F3"
              },
              {
                "color": "#2196F3",
                "id": 46,
                "label": "Lady Catherine Grey",
                "position": [
                  0,
                  0
                ],
                "properties": {
                  "id": "Lady Catherine Grey",
                  "label": "Person:__Entity__"
                },
                "scale_factor": 1,
                "size": [
                  55,
                  55
                ],
                "styles": {},
                "type": "#2196F3"
              },
              {
                "color": "#2196F3",
                "id": 47,
                "label": "Lady Mary Grey",
                "position": [
                  0,
                  0
                ],
                "properties": {
                  "id": "Lady Mary Grey",
                  "label": "Person:__Entity__"
                },
                "scale_factor": 1,
                "size": [
                  55,
                  55
                ],
                "styles": {},
                "type": "#2196F3"
              },
              {
                "color": "#2196F3",
                "id": 44,
                "label": "Charles Brandon",
                "position": [
                  0,
                  0
                ],
                "properties": {
                  "id": "Charles Brandon",
                  "label": "Person:__Entity__"
                },
                "scale_factor": 1,
                "size": [
                  55,
                  55
                ],
                "styles": {},
                "type": "#2196F3"
              },
              {
                "color": "#2196F3",
                "id": 42,
                "label": "Eleanor Clifford",
                "position": [
                  0,
                  0
                ],
                "properties": {
                  "id": "Eleanor Clifford",
                  "label": "Person:__Entity__"
                },
                "scale_factor": 1,
                "size": [
                  55,
                  55
                ],
                "styles": {},
                "type": "#2196F3"
              },
              {
                "color": "#2196F3",
                "id": 45,
                "label": "Henry Grey",
                "position": [
                  0,
                  0
                ],
                "properties": {
                  "id": "Henry Grey",
                  "label": "Person:__Entity__"
                },
                "scale_factor": 1,
                "size": [
                  55,
                  55
                ],
                "styles": {},
                "type": "#2196F3"
              },
              {
                "color": "#2196F3",
                "id": 48,
                "label": "Henry Herbert",
                "position": [
                  0,
                  0
                ],
                "properties": {
                  "id": "Henry Herbert",
                  "label": "Person:__Entity__"
                },
                "scale_factor": 1,
                "size": [
                  55,
                  55
                ],
                "styles": {},
                "type": "#2196F3"
              },
              {
                "color": "#2196F3",
                "id": 50,
                "label": "Elizabeth Petrovna",
                "position": [
                  0,
                  0
                ],
                "properties": {
                  "id": "Elizabeth Petrovna",
                  "label": "Person:__Entity__"
                },
                "scale_factor": 1,
                "size": [
                  55,
                  55
                ],
                "styles": {},
                "type": "#2196F3"
              },
              {
                "color": "#607D8B",
                "id": 51,
                "label": "Empress Of Russia",
                "position": [
                  0,
                  0
                ],
                "properties": {
                  "id": "Empress Of Russia",
                  "label": "Title:__Entity__"
                },
                "scale_factor": 1,
                "size": [
                  55,
                  55
                ],
                "styles": {},
                "type": "#607D8B"
              }
            ],
            "_overview": {
              "enabled": null,
              "overview_set": false
            },
            "_selected_graph": [
              [],
              []
            ],
            "_sidebar": {
              "enabled": true,
              "start_with": ""
            },
            "_view_count": null,
            "_view_module": "yfiles-jupyter-graphs",
            "_view_module_version": "^1.6.1",
            "_view_name": "GraphView",
            "layout": "IPY_MODEL_9bac7003afd84cecb4e67a81a396ec8d"
          }
        },
        "9bac7003afd84cecb4e67a81a396ec8d": {
          "model_module": "@jupyter-widgets/base",
          "model_module_version": "1.2.0",
          "model_name": "LayoutModel",
          "state": {
            "_model_module": "@jupyter-widgets/base",
            "_model_module_version": "1.2.0",
            "_model_name": "LayoutModel",
            "_view_count": null,
            "_view_module": "@jupyter-widgets/base",
            "_view_module_version": "1.2.0",
            "_view_name": "LayoutView",
            "align_content": null,
            "align_items": null,
            "align_self": null,
            "border": null,
            "bottom": null,
            "display": null,
            "flex": null,
            "flex_flow": null,
            "grid_area": null,
            "grid_auto_columns": null,
            "grid_auto_flow": null,
            "grid_auto_rows": null,
            "grid_column": null,
            "grid_gap": null,
            "grid_row": null,
            "grid_template_areas": null,
            "grid_template_columns": null,
            "grid_template_rows": null,
            "height": "800px",
            "justify_content": null,
            "justify_items": null,
            "left": null,
            "margin": null,
            "max_height": null,
            "max_width": null,
            "min_height": null,
            "min_width": null,
            "object_fit": null,
            "object_position": null,
            "order": null,
            "overflow": null,
            "overflow_x": null,
            "overflow_y": null,
            "padding": null,
            "right": null,
            "top": null,
            "visibility": null,
            "width": "100%"
          }
        }
      }
    }
  },
  "nbformat": 4,
  "nbformat_minor": 0
}
